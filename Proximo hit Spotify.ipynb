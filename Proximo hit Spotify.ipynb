{
 "cells": [
  {
   "cell_type": "markdown",
   "id": "c9426a74",
   "metadata": {
    "papermill": {
     "duration": 0.008153,
     "end_time": "2024-10-01T12:41:23.299650",
     "exception": false,
     "start_time": "2024-10-01T12:41:23.291497",
     "status": "completed"
    },
    "tags": []
   },
   "source": [
    "# Spotify Music Popularity Prediction\n",
    "Este notebook aborda o processo completo de construção de um modelo de Machine Learning para prever a popularidade de músicas no Spotify. O processo inclui a limpeza e tratamento de dados, análise exploratória, treinamento de modelo e avaliação do desempenho."
   ]
  },
  {
   "cell_type": "markdown",
   "id": "c520ac2b",
   "metadata": {
    "papermill": {
     "duration": 0.006915,
     "end_time": "2024-10-01T12:41:23.313976",
     "exception": false,
     "start_time": "2024-10-01T12:41:23.307061",
     "status": "completed"
    },
    "tags": []
   },
   "source": [
    "## Etapa 1: Importação e Limpeza dos Dados\n",
    "Nesta etapa, os dados de treino e teste são carregados e as colunas com valores nulos são tratadas."
   ]
  },
  {
   "cell_type": "code",
   "execution_count": 3,
   "id": "3c4501b0",
   "metadata": {
    "execution": {
     "iopub.execute_input": "2024-10-01T12:41:23.330251Z",
     "iopub.status.busy": "2024-10-01T12:41:23.329784Z",
     "iopub.status.idle": "2024-10-01T12:41:26.991570Z",
     "shell.execute_reply": "2024-10-01T12:41:26.990175Z"
    },
    "papermill": {
     "duration": 3.673563,
     "end_time": "2024-10-01T12:41:26.994633",
     "exception": false,
     "start_time": "2024-10-01T12:41:23.321070",
     "status": "completed"
    },
    "tags": []
   },
   "outputs": [],
   "source": [
    "# Importando as bibliotecas necessárias\n",
    "import pandas as pd\n",
    "import numpy as np\n",
    "import matplotlib.pyplot as plt\n",
    "import seaborn as sns\n",
    "from sklearn.ensemble import RandomForestClassifier\n",
    "from sklearn.model_selection import train_test_split, RandomizedSearchCV\n",
    "from sklearn.metrics import accuracy_score, classification_report"
   ]
  },
  {
   "cell_type": "markdown",
   "id": "57494166",
   "metadata": {
    "papermill": {
     "duration": 0.006967,
     "end_time": "2024-10-01T12:41:27.009167",
     "exception": false,
     "start_time": "2024-10-01T12:41:27.002200",
     "status": "completed"
    },
    "tags": []
   },
   "source": [
    "Lê os arquivos necessários para a predição"
   ]
  },
  {
   "cell_type": "code",
   "execution_count": 4,
   "id": "7e659065",
   "metadata": {
    "execution": {
     "iopub.execute_input": "2024-10-01T12:41:27.026576Z",
     "iopub.status.busy": "2024-10-01T12:41:27.025897Z",
     "iopub.status.idle": "2024-10-01T12:41:28.097850Z",
     "shell.execute_reply": "2024-10-01T12:41:28.096380Z"
    },
    "papermill": {
     "duration": 1.084548,
     "end_time": "2024-10-01T12:41:28.100963",
     "exception": false,
     "start_time": "2024-10-01T12:41:27.016415",
     "status": "completed"
    },
    "tags": []
   },
   "outputs": [],
   "source": [
    "df_test = pd.read_csv('test.csv')\n",
    "df_train = pd.read_csv('train.csv')"
   ]
  },
  {
   "cell_type": "markdown",
   "id": "176d150d",
   "metadata": {
    "papermill": {
     "duration": 0.007842,
     "end_time": "2024-10-01T12:41:28.116628",
     "exception": false,
     "start_time": "2024-10-01T12:41:28.108786",
     "status": "completed"
    },
    "tags": []
   },
   "source": [
    "Preenche linhas nulas com \"Desconhecido\""
   ]
  },
  {
   "cell_type": "code",
   "execution_count": 5,
   "id": "3c14176f",
   "metadata": {
    "execution": {
     "iopub.execute_input": "2024-10-01T12:41:28.133905Z",
     "iopub.status.busy": "2024-10-01T12:41:28.133427Z",
     "iopub.status.idle": "2024-10-01T12:41:28.164593Z",
     "shell.execute_reply": "2024-10-01T12:41:28.163159Z"
    },
    "papermill": {
     "duration": 0.042774,
     "end_time": "2024-10-01T12:41:28.167395",
     "exception": false,
     "start_time": "2024-10-01T12:41:28.124621",
     "status": "completed"
    },
    "tags": []
   },
   "outputs": [],
   "source": [
    "# Altera linhas com valores nulos nas colunas específicas\n",
    "df_test['artists'] = df_test['artists'].fillna('Desconhecido')\n",
    "df_test['album_name'] = df_test['album_name'].fillna('Desconhecido')\n",
    "df_test['track_name'] = df_test['track_name'].fillna('Desconhecido')"
   ]
  },
  {
   "cell_type": "markdown",
   "id": "fefb9a24",
   "metadata": {
    "papermill": {
     "duration": 0.008467,
     "end_time": "2024-10-01T12:41:28.184119",
     "exception": false,
     "start_time": "2024-10-01T12:41:28.175652",
     "status": "completed"
    },
    "tags": []
   },
   "source": [
    "## Etapa 2: Separar Features e Alvo\n",
    "Nesta etapa, as features (variáveis independentes) e o alvo (variável dependente) são separadas para posterior treinamento do modelo."
   ]
  },
  {
   "cell_type": "code",
   "execution_count": 6,
   "id": "9b6d8595",
   "metadata": {
    "execution": {
     "iopub.execute_input": "2024-10-01T12:41:28.204414Z",
     "iopub.status.busy": "2024-10-01T12:41:28.203863Z",
     "iopub.status.idle": "2024-10-01T12:41:28.225877Z",
     "shell.execute_reply": "2024-10-01T12:41:28.224126Z"
    },
    "papermill": {
     "duration": 0.036105,
     "end_time": "2024-10-01T12:41:28.228920",
     "exception": false,
     "start_time": "2024-10-01T12:41:28.192815",
     "status": "completed"
    },
    "tags": []
   },
   "outputs": [],
   "source": [
    "# Remover colunas irrelevantes para o modelo\n",
    "df_test_cleaned = df_test.drop(columns=['track_unique_id', 'track_id', 'artists', 'album_name', 'track_name'])\n",
    "df_train_cleaned = df_train.drop(columns=['track_unique_id', 'track_id', 'artists', 'album_name', 'track_name'])\n"
   ]
  },
  {
   "cell_type": "markdown",
   "id": "c249a1c5",
   "metadata": {
    "papermill": {
     "duration": 0.007306,
     "end_time": "2024-10-01T12:41:28.243599",
     "exception": false,
     "start_time": "2024-10-01T12:41:28.236293",
     "status": "completed"
    },
    "tags": []
   },
   "source": [
    "Trata outliers e remove valores fora da realidade"
   ]
  },
  {
   "cell_type": "code",
   "execution_count": 7,
   "id": "a9a6a0bf",
   "metadata": {
    "execution": {
     "iopub.execute_input": "2024-10-01T12:41:28.261159Z",
     "iopub.status.busy": "2024-10-01T12:41:28.260680Z",
     "iopub.status.idle": "2024-10-01T12:41:28.334336Z",
     "shell.execute_reply": "2024-10-01T12:41:28.333020Z"
    },
    "papermill": {
     "duration": 0.08642,
     "end_time": "2024-10-01T12:41:28.337380",
     "exception": false,
     "start_time": "2024-10-01T12:41:28.250960",
     "status": "completed"
    },
    "tags": []
   },
   "outputs": [],
   "source": [
    "# Remove músicas com duração inferior a 30 segundos e superior a 10 minutos\n",
    "df_train_cleaned = df_train_cleaned[(df_train_cleaned['duration_ms'] > 30000) & (df_train_cleaned['duration_ms'] < 600000)]\n",
    "\n",
    "# Remove músicas com tempo inferior a 0\n",
    "df_train_cleaned = df_train_cleaned[df_train_cleaned['tempo'] >= 0]\n",
    "\n",
    "# Remove músicas com volume inferior a -60\n",
    "df_train_cleaned = df_train_cleaned[df_train_cleaned['loudness'] >= -60]\n",
    "\n",
    "# Remove músicas com energia inferior a 0\n",
    "df_train_cleaned = df_train_cleaned[df_train_cleaned['energy'] >= 0]\n",
    "\n",
    "# Remove músicas com dançabilidade inferior a 0\n",
    "df_train_cleaned = df_train_cleaned[df_train_cleaned['danceability'] >= 0]\n",
    "\n",
    "# Remove músicas com valência inferior a 0\n",
    "df_train_cleaned = df_train_cleaned[df_train_cleaned['valence'] >= 0]\n",
    "\n",
    "# Remove músicas com acusticidade inferior a 0\n",
    "df_train_cleaned = df_train_cleaned[df_train_cleaned['acousticness'] >= 0]\n",
    "\n",
    "# Remove músicas com instrumentalidade inferior a 0\n",
    "df_train_cleaned = df_train_cleaned[df_train_cleaned['instrumentalness'] >= 0]\n",
    "\n",
    "# Remove músicas com vivacidade inferior a 0\n",
    "df_train_cleaned = df_train_cleaned[df_train_cleaned['liveness'] >= 0]\n",
    "\n",
    "# Remove músicas com falabilidade inferior a 0\n",
    "df_train_cleaned = df_train_cleaned[df_train_cleaned['speechiness'] >= 0]\n",
    "\n",
    "# Remove músicas com conteúdo explícito inferior a 0\n",
    "df_train_cleaned = df_train_cleaned[df_train_cleaned['explicit'] >= 0]\n",
    "\n",
    "# Remove músicas com modo inferior a 0\n",
    "df_train_cleaned = df_train_cleaned[df_train_cleaned['mode'] >= 0]\n",
    "\n",
    "# Remove músicas com tom musical inferior a 0\n",
    "df_train_cleaned = df_train_cleaned[df_train_cleaned['key'] >= 0]\n",
    "\n",
    "# Remove músicas com compasso inferior a 0\n",
    "df_train_cleaned = df_train_cleaned[df_train_cleaned['time_signature'] >= 0]\n"
   ]
  },
  {
   "cell_type": "code",
   "execution_count": 8,
   "id": "b0746799",
   "metadata": {
    "execution": {
     "iopub.execute_input": "2024-10-01T12:41:28.355682Z",
     "iopub.status.busy": "2024-10-01T12:41:28.355192Z",
     "iopub.status.idle": "2024-10-01T12:41:28.367551Z",
     "shell.execute_reply": "2024-10-01T12:41:28.365978Z"
    },
    "papermill": {
     "duration": 0.025051,
     "end_time": "2024-10-01T12:41:28.371094",
     "exception": false,
     "start_time": "2024-10-01T12:41:28.346043",
     "status": "completed"
    },
    "tags": []
   },
   "outputs": [],
   "source": [
    "# Dividir o dataset de treino em X e y\n",
    "X_train = df_train_cleaned.drop(columns=['popularity_target'])\n",
    "y_train = df_train_cleaned['popularity_target']"
   ]
  },
  {
   "cell_type": "markdown",
   "id": "275bf26c",
   "metadata": {
    "papermill": {
     "duration": 0.007362,
     "end_time": "2024-10-01T12:41:28.386691",
     "exception": false,
     "start_time": "2024-10-01T12:41:28.379329",
     "status": "completed"
    },
    "tags": []
   },
   "source": [
    "## Etapa 3: Codificação de Variáveis Categóricas\n",
    "As variáveis categóricas são transformadas em numéricas usando One-Hot Encoding."
   ]
  },
  {
   "cell_type": "code",
   "execution_count": 9,
   "id": "57f72587",
   "metadata": {
    "execution": {
     "iopub.execute_input": "2024-10-01T12:41:28.404817Z",
     "iopub.status.busy": "2024-10-01T12:41:28.404355Z",
     "iopub.status.idle": "2024-10-01T12:41:28.465186Z",
     "shell.execute_reply": "2024-10-01T12:41:28.463942Z"
    },
    "papermill": {
     "duration": 0.073245,
     "end_time": "2024-10-01T12:41:28.468383",
     "exception": false,
     "start_time": "2024-10-01T12:41:28.395138",
     "status": "completed"
    },
    "tags": []
   },
   "outputs": [],
   "source": [
    "# Codificar as variáveis categóricas usando One-Hot Encoding\n",
    "X_train_encoded = pd.get_dummies(X_train, drop_first=True)\n",
    "X_test_encoded = pd.get_dummies(df_test_cleaned, drop_first=True)"
   ]
  },
  {
   "cell_type": "markdown",
   "id": "8f361c45",
   "metadata": {
    "papermill": {
     "duration": 0.007066,
     "end_time": "2024-10-01T12:41:28.482832",
     "exception": false,
     "start_time": "2024-10-01T12:41:28.475766",
     "status": "completed"
    },
    "tags": []
   },
   "source": [
    "## Etapa 4: Divisão dos Dados\n",
    "Dividir os dados em conjunto de treino e teste para posterior avaliação do modelo."
   ]
  },
  {
   "cell_type": "code",
   "execution_count": 10,
   "id": "098d85cc",
   "metadata": {
    "execution": {
     "iopub.execute_input": "2024-10-01T12:41:28.499562Z",
     "iopub.status.busy": "2024-10-01T12:41:28.499105Z",
     "iopub.status.idle": "2024-10-01T12:41:28.557360Z",
     "shell.execute_reply": "2024-10-01T12:41:28.556033Z"
    },
    "papermill": {
     "duration": 0.070322,
     "end_time": "2024-10-01T12:41:28.560514",
     "exception": false,
     "start_time": "2024-10-01T12:41:28.490192",
     "status": "completed"
    },
    "tags": []
   },
   "outputs": [],
   "source": [
    "# Alinhar as colunas do conjunto de treino e teste para garantir que as colunas sejam iguais\n",
    "X_train_encoded, X_test_encoded = X_train_encoded.align(X_test_encoded, join='left', axis=1, fill_value=0)\n",
    "\n",
    "# Separar dados de treino e validação (opcional, se não estiver usando conjunto de teste separado)\n",
    "X_train_split, X_val_split, y_train_split, y_val_split = train_test_split(X_train_encoded, y_train, test_size=0.2, random_state=42)\n"
   ]
  },
  {
   "cell_type": "markdown",
   "id": "ff9d6557",
   "metadata": {
    "papermill": {
     "duration": 0.006975,
     "end_time": "2024-10-01T12:41:28.575386",
     "exception": false,
     "start_time": "2024-10-01T12:41:28.568411",
     "status": "completed"
    },
    "tags": []
   },
   "source": [
    "## Etapa 5: Treinamento do Modelo\n",
    "Treinar o modelo de Random Forest com os dados de treino."
   ]
  },
  {
   "cell_type": "code",
   "execution_count": 11,
   "id": "a84c9c10",
   "metadata": {
    "execution": {
     "iopub.execute_input": "2024-10-01T12:41:28.592019Z",
     "iopub.status.busy": "2024-10-01T12:41:28.591564Z",
     "iopub.status.idle": "2024-10-01T12:41:28.597705Z",
     "shell.execute_reply": "2024-10-01T12:41:28.596539Z"
    },
    "papermill": {
     "duration": 0.017433,
     "end_time": "2024-10-01T12:41:28.600197",
     "exception": false,
     "start_time": "2024-10-01T12:41:28.582764",
     "status": "completed"
    },
    "tags": []
   },
   "outputs": [],
   "source": [
    "# # Definir os hiperparâmetros a serem ajustados\n",
    "# param_grid = {\n",
    "#     'n_estimators': [100, 200, 500],            # Número de árvores\n",
    "#     'max_depth': [10, 20, 30, None],            # Profundidade máxima\n",
    "#     'min_samples_split': [2, 5, 10],            # Número mínimo de amostras para dividir um nó\n",
    "#     'min_samples_leaf': [1, 2, 4],              # Número mínimo de amostras em uma folha\n",
    "#     'max_features': ['sqrt', 'log2'],           # Número de features a considerar por divisão\n",
    "#     'bootstrap': [True, False]                  # Usar amostras bootstrap ou não\n",
    "# }\n",
    "\n",
    "# # Instanciar o modelo com balanceamento de classes\n",
    "# rf = RandomForestClassifier(class_weight='balanced', random_state=42)\n",
    "\n",
    "# # Usar RandomizedSearchCV para ajustar os hiperparâmetros\n",
    "# rf_random = RandomizedSearchCV(estimator=rf, param_distributions=param_grid,\n",
    "#                                n_iter=100, cv=3, verbose=2, random_state=42, n_jobs=-1, scoring='precision')\n",
    "\n",
    "\n",
    "# # Ajustar o modelo\n",
    "# rf_random.fit(X_train_split, y_train_split)\n",
    "\n",
    "# # Ver os melhores hiperparâmetros encontrados\n",
    "# print(\"Melhores Hiperparâmetros:\", rf_random.best_params_)"
   ]
  },
  {
   "cell_type": "code",
   "execution_count": 12,
   "id": "1e731a96",
   "metadata": {
    "execution": {
     "iopub.execute_input": "2024-10-01T12:41:28.617472Z",
     "iopub.status.busy": "2024-10-01T12:41:28.616226Z",
     "iopub.status.idle": "2024-10-01T12:43:32.312461Z",
     "shell.execute_reply": "2024-10-01T12:43:32.310894Z"
    },
    "papermill": {
     "duration": 123.715531,
     "end_time": "2024-10-01T12:43:32.323255",
     "exception": false,
     "start_time": "2024-10-01T12:41:28.607724",
     "status": "completed"
    },
    "tags": []
   },
   "outputs": [
    {
     "data": {
      "text/html": [
       "<style>#sk-container-id-1 {\n",
       "  /* Definition of color scheme common for light and dark mode */\n",
       "  --sklearn-color-text: black;\n",
       "  --sklearn-color-line: gray;\n",
       "  /* Definition of color scheme for unfitted estimators */\n",
       "  --sklearn-color-unfitted-level-0: #fff5e6;\n",
       "  --sklearn-color-unfitted-level-1: #f6e4d2;\n",
       "  --sklearn-color-unfitted-level-2: #ffe0b3;\n",
       "  --sklearn-color-unfitted-level-3: chocolate;\n",
       "  /* Definition of color scheme for fitted estimators */\n",
       "  --sklearn-color-fitted-level-0: #f0f8ff;\n",
       "  --sklearn-color-fitted-level-1: #d4ebff;\n",
       "  --sklearn-color-fitted-level-2: #b3dbfd;\n",
       "  --sklearn-color-fitted-level-3: cornflowerblue;\n",
       "\n",
       "  /* Specific color for light theme */\n",
       "  --sklearn-color-text-on-default-background: var(--sg-text-color, var(--theme-code-foreground, var(--jp-content-font-color1, black)));\n",
       "  --sklearn-color-background: var(--sg-background-color, var(--theme-background, var(--jp-layout-color0, white)));\n",
       "  --sklearn-color-border-box: var(--sg-text-color, var(--theme-code-foreground, var(--jp-content-font-color1, black)));\n",
       "  --sklearn-color-icon: #696969;\n",
       "\n",
       "  @media (prefers-color-scheme: dark) {\n",
       "    /* Redefinition of color scheme for dark theme */\n",
       "    --sklearn-color-text-on-default-background: var(--sg-text-color, var(--theme-code-foreground, var(--jp-content-font-color1, white)));\n",
       "    --sklearn-color-background: var(--sg-background-color, var(--theme-background, var(--jp-layout-color0, #111)));\n",
       "    --sklearn-color-border-box: var(--sg-text-color, var(--theme-code-foreground, var(--jp-content-font-color1, white)));\n",
       "    --sklearn-color-icon: #878787;\n",
       "  }\n",
       "}\n",
       "\n",
       "#sk-container-id-1 {\n",
       "  color: var(--sklearn-color-text);\n",
       "}\n",
       "\n",
       "#sk-container-id-1 pre {\n",
       "  padding: 0;\n",
       "}\n",
       "\n",
       "#sk-container-id-1 input.sk-hidden--visually {\n",
       "  border: 0;\n",
       "  clip: rect(1px 1px 1px 1px);\n",
       "  clip: rect(1px, 1px, 1px, 1px);\n",
       "  height: 1px;\n",
       "  margin: -1px;\n",
       "  overflow: hidden;\n",
       "  padding: 0;\n",
       "  position: absolute;\n",
       "  width: 1px;\n",
       "}\n",
       "\n",
       "#sk-container-id-1 div.sk-dashed-wrapped {\n",
       "  border: 1px dashed var(--sklearn-color-line);\n",
       "  margin: 0 0.4em 0.5em 0.4em;\n",
       "  box-sizing: border-box;\n",
       "  padding-bottom: 0.4em;\n",
       "  background-color: var(--sklearn-color-background);\n",
       "}\n",
       "\n",
       "#sk-container-id-1 div.sk-container {\n",
       "  /* jupyter's `normalize.less` sets `[hidden] { display: none; }`\n",
       "     but bootstrap.min.css set `[hidden] { display: none !important; }`\n",
       "     so we also need the `!important` here to be able to override the\n",
       "     default hidden behavior on the sphinx rendered scikit-learn.org.\n",
       "     See: https://github.com/scikit-learn/scikit-learn/issues/21755 */\n",
       "  display: inline-block !important;\n",
       "  position: relative;\n",
       "}\n",
       "\n",
       "#sk-container-id-1 div.sk-text-repr-fallback {\n",
       "  display: none;\n",
       "}\n",
       "\n",
       "div.sk-parallel-item,\n",
       "div.sk-serial,\n",
       "div.sk-item {\n",
       "  /* draw centered vertical line to link estimators */\n",
       "  background-image: linear-gradient(var(--sklearn-color-text-on-default-background), var(--sklearn-color-text-on-default-background));\n",
       "  background-size: 2px 100%;\n",
       "  background-repeat: no-repeat;\n",
       "  background-position: center center;\n",
       "}\n",
       "\n",
       "/* Parallel-specific style estimator block */\n",
       "\n",
       "#sk-container-id-1 div.sk-parallel-item::after {\n",
       "  content: \"\";\n",
       "  width: 100%;\n",
       "  border-bottom: 2px solid var(--sklearn-color-text-on-default-background);\n",
       "  flex-grow: 1;\n",
       "}\n",
       "\n",
       "#sk-container-id-1 div.sk-parallel {\n",
       "  display: flex;\n",
       "  align-items: stretch;\n",
       "  justify-content: center;\n",
       "  background-color: var(--sklearn-color-background);\n",
       "  position: relative;\n",
       "}\n",
       "\n",
       "#sk-container-id-1 div.sk-parallel-item {\n",
       "  display: flex;\n",
       "  flex-direction: column;\n",
       "}\n",
       "\n",
       "#sk-container-id-1 div.sk-parallel-item:first-child::after {\n",
       "  align-self: flex-end;\n",
       "  width: 50%;\n",
       "}\n",
       "\n",
       "#sk-container-id-1 div.sk-parallel-item:last-child::after {\n",
       "  align-self: flex-start;\n",
       "  width: 50%;\n",
       "}\n",
       "\n",
       "#sk-container-id-1 div.sk-parallel-item:only-child::after {\n",
       "  width: 0;\n",
       "}\n",
       "\n",
       "/* Serial-specific style estimator block */\n",
       "\n",
       "#sk-container-id-1 div.sk-serial {\n",
       "  display: flex;\n",
       "  flex-direction: column;\n",
       "  align-items: center;\n",
       "  background-color: var(--sklearn-color-background);\n",
       "  padding-right: 1em;\n",
       "  padding-left: 1em;\n",
       "}\n",
       "\n",
       "\n",
       "/* Toggleable style: style used for estimator/Pipeline/ColumnTransformer box that is\n",
       "clickable and can be expanded/collapsed.\n",
       "- Pipeline and ColumnTransformer use this feature and define the default style\n",
       "- Estimators will overwrite some part of the style using the `sk-estimator` class\n",
       "*/\n",
       "\n",
       "/* Pipeline and ColumnTransformer style (default) */\n",
       "\n",
       "#sk-container-id-1 div.sk-toggleable {\n",
       "  /* Default theme specific background. It is overwritten whether we have a\n",
       "  specific estimator or a Pipeline/ColumnTransformer */\n",
       "  background-color: var(--sklearn-color-background);\n",
       "}\n",
       "\n",
       "/* Toggleable label */\n",
       "#sk-container-id-1 label.sk-toggleable__label {\n",
       "  cursor: pointer;\n",
       "  display: block;\n",
       "  width: 100%;\n",
       "  margin-bottom: 0;\n",
       "  padding: 0.5em;\n",
       "  box-sizing: border-box;\n",
       "  text-align: center;\n",
       "}\n",
       "\n",
       "#sk-container-id-1 label.sk-toggleable__label-arrow:before {\n",
       "  /* Arrow on the left of the label */\n",
       "  content: \"▸\";\n",
       "  float: left;\n",
       "  margin-right: 0.25em;\n",
       "  color: var(--sklearn-color-icon);\n",
       "}\n",
       "\n",
       "#sk-container-id-1 label.sk-toggleable__label-arrow:hover:before {\n",
       "  color: var(--sklearn-color-text);\n",
       "}\n",
       "\n",
       "/* Toggleable content - dropdown */\n",
       "\n",
       "#sk-container-id-1 div.sk-toggleable__content {\n",
       "  max-height: 0;\n",
       "  max-width: 0;\n",
       "  overflow: hidden;\n",
       "  text-align: left;\n",
       "  /* unfitted */\n",
       "  background-color: var(--sklearn-color-unfitted-level-0);\n",
       "}\n",
       "\n",
       "#sk-container-id-1 div.sk-toggleable__content.fitted {\n",
       "  /* fitted */\n",
       "  background-color: var(--sklearn-color-fitted-level-0);\n",
       "}\n",
       "\n",
       "#sk-container-id-1 div.sk-toggleable__content pre {\n",
       "  margin: 0.2em;\n",
       "  border-radius: 0.25em;\n",
       "  color: var(--sklearn-color-text);\n",
       "  /* unfitted */\n",
       "  background-color: var(--sklearn-color-unfitted-level-0);\n",
       "}\n",
       "\n",
       "#sk-container-id-1 div.sk-toggleable__content.fitted pre {\n",
       "  /* unfitted */\n",
       "  background-color: var(--sklearn-color-fitted-level-0);\n",
       "}\n",
       "\n",
       "#sk-container-id-1 input.sk-toggleable__control:checked~div.sk-toggleable__content {\n",
       "  /* Expand drop-down */\n",
       "  max-height: 200px;\n",
       "  max-width: 100%;\n",
       "  overflow: auto;\n",
       "}\n",
       "\n",
       "#sk-container-id-1 input.sk-toggleable__control:checked~label.sk-toggleable__label-arrow:before {\n",
       "  content: \"▾\";\n",
       "}\n",
       "\n",
       "/* Pipeline/ColumnTransformer-specific style */\n",
       "\n",
       "#sk-container-id-1 div.sk-label input.sk-toggleable__control:checked~label.sk-toggleable__label {\n",
       "  color: var(--sklearn-color-text);\n",
       "  background-color: var(--sklearn-color-unfitted-level-2);\n",
       "}\n",
       "\n",
       "#sk-container-id-1 div.sk-label.fitted input.sk-toggleable__control:checked~label.sk-toggleable__label {\n",
       "  background-color: var(--sklearn-color-fitted-level-2);\n",
       "}\n",
       "\n",
       "/* Estimator-specific style */\n",
       "\n",
       "/* Colorize estimator box */\n",
       "#sk-container-id-1 div.sk-estimator input.sk-toggleable__control:checked~label.sk-toggleable__label {\n",
       "  /* unfitted */\n",
       "  background-color: var(--sklearn-color-unfitted-level-2);\n",
       "}\n",
       "\n",
       "#sk-container-id-1 div.sk-estimator.fitted input.sk-toggleable__control:checked~label.sk-toggleable__label {\n",
       "  /* fitted */\n",
       "  background-color: var(--sklearn-color-fitted-level-2);\n",
       "}\n",
       "\n",
       "#sk-container-id-1 div.sk-label label.sk-toggleable__label,\n",
       "#sk-container-id-1 div.sk-label label {\n",
       "  /* The background is the default theme color */\n",
       "  color: var(--sklearn-color-text-on-default-background);\n",
       "}\n",
       "\n",
       "/* On hover, darken the color of the background */\n",
       "#sk-container-id-1 div.sk-label:hover label.sk-toggleable__label {\n",
       "  color: var(--sklearn-color-text);\n",
       "  background-color: var(--sklearn-color-unfitted-level-2);\n",
       "}\n",
       "\n",
       "/* Label box, darken color on hover, fitted */\n",
       "#sk-container-id-1 div.sk-label.fitted:hover label.sk-toggleable__label.fitted {\n",
       "  color: var(--sklearn-color-text);\n",
       "  background-color: var(--sklearn-color-fitted-level-2);\n",
       "}\n",
       "\n",
       "/* Estimator label */\n",
       "\n",
       "#sk-container-id-1 div.sk-label label {\n",
       "  font-family: monospace;\n",
       "  font-weight: bold;\n",
       "  display: inline-block;\n",
       "  line-height: 1.2em;\n",
       "}\n",
       "\n",
       "#sk-container-id-1 div.sk-label-container {\n",
       "  text-align: center;\n",
       "}\n",
       "\n",
       "/* Estimator-specific */\n",
       "#sk-container-id-1 div.sk-estimator {\n",
       "  font-family: monospace;\n",
       "  border: 1px dotted var(--sklearn-color-border-box);\n",
       "  border-radius: 0.25em;\n",
       "  box-sizing: border-box;\n",
       "  margin-bottom: 0.5em;\n",
       "  /* unfitted */\n",
       "  background-color: var(--sklearn-color-unfitted-level-0);\n",
       "}\n",
       "\n",
       "#sk-container-id-1 div.sk-estimator.fitted {\n",
       "  /* fitted */\n",
       "  background-color: var(--sklearn-color-fitted-level-0);\n",
       "}\n",
       "\n",
       "/* on hover */\n",
       "#sk-container-id-1 div.sk-estimator:hover {\n",
       "  /* unfitted */\n",
       "  background-color: var(--sklearn-color-unfitted-level-2);\n",
       "}\n",
       "\n",
       "#sk-container-id-1 div.sk-estimator.fitted:hover {\n",
       "  /* fitted */\n",
       "  background-color: var(--sklearn-color-fitted-level-2);\n",
       "}\n",
       "\n",
       "/* Specification for estimator info (e.g. \"i\" and \"?\") */\n",
       "\n",
       "/* Common style for \"i\" and \"?\" */\n",
       "\n",
       ".sk-estimator-doc-link,\n",
       "a:link.sk-estimator-doc-link,\n",
       "a:visited.sk-estimator-doc-link {\n",
       "  float: right;\n",
       "  font-size: smaller;\n",
       "  line-height: 1em;\n",
       "  font-family: monospace;\n",
       "  background-color: var(--sklearn-color-background);\n",
       "  border-radius: 1em;\n",
       "  height: 1em;\n",
       "  width: 1em;\n",
       "  text-decoration: none !important;\n",
       "  margin-left: 1ex;\n",
       "  /* unfitted */\n",
       "  border: var(--sklearn-color-unfitted-level-1) 1pt solid;\n",
       "  color: var(--sklearn-color-unfitted-level-1);\n",
       "}\n",
       "\n",
       ".sk-estimator-doc-link.fitted,\n",
       "a:link.sk-estimator-doc-link.fitted,\n",
       "a:visited.sk-estimator-doc-link.fitted {\n",
       "  /* fitted */\n",
       "  border: var(--sklearn-color-fitted-level-1) 1pt solid;\n",
       "  color: var(--sklearn-color-fitted-level-1);\n",
       "}\n",
       "\n",
       "/* On hover */\n",
       "div.sk-estimator:hover .sk-estimator-doc-link:hover,\n",
       ".sk-estimator-doc-link:hover,\n",
       "div.sk-label-container:hover .sk-estimator-doc-link:hover,\n",
       ".sk-estimator-doc-link:hover {\n",
       "  /* unfitted */\n",
       "  background-color: var(--sklearn-color-unfitted-level-3);\n",
       "  color: var(--sklearn-color-background);\n",
       "  text-decoration: none;\n",
       "}\n",
       "\n",
       "div.sk-estimator.fitted:hover .sk-estimator-doc-link.fitted:hover,\n",
       ".sk-estimator-doc-link.fitted:hover,\n",
       "div.sk-label-container:hover .sk-estimator-doc-link.fitted:hover,\n",
       ".sk-estimator-doc-link.fitted:hover {\n",
       "  /* fitted */\n",
       "  background-color: var(--sklearn-color-fitted-level-3);\n",
       "  color: var(--sklearn-color-background);\n",
       "  text-decoration: none;\n",
       "}\n",
       "\n",
       "/* Span, style for the box shown on hovering the info icon */\n",
       ".sk-estimator-doc-link span {\n",
       "  display: none;\n",
       "  z-index: 9999;\n",
       "  position: relative;\n",
       "  font-weight: normal;\n",
       "  right: .2ex;\n",
       "  padding: .5ex;\n",
       "  margin: .5ex;\n",
       "  width: min-content;\n",
       "  min-width: 20ex;\n",
       "  max-width: 50ex;\n",
       "  color: var(--sklearn-color-text);\n",
       "  box-shadow: 2pt 2pt 4pt #999;\n",
       "  /* unfitted */\n",
       "  background: var(--sklearn-color-unfitted-level-0);\n",
       "  border: .5pt solid var(--sklearn-color-unfitted-level-3);\n",
       "}\n",
       "\n",
       ".sk-estimator-doc-link.fitted span {\n",
       "  /* fitted */\n",
       "  background: var(--sklearn-color-fitted-level-0);\n",
       "  border: var(--sklearn-color-fitted-level-3);\n",
       "}\n",
       "\n",
       ".sk-estimator-doc-link:hover span {\n",
       "  display: block;\n",
       "}\n",
       "\n",
       "/* \"?\"-specific style due to the `<a>` HTML tag */\n",
       "\n",
       "#sk-container-id-1 a.estimator_doc_link {\n",
       "  float: right;\n",
       "  font-size: 1rem;\n",
       "  line-height: 1em;\n",
       "  font-family: monospace;\n",
       "  background-color: var(--sklearn-color-background);\n",
       "  border-radius: 1rem;\n",
       "  height: 1rem;\n",
       "  width: 1rem;\n",
       "  text-decoration: none;\n",
       "  /* unfitted */\n",
       "  color: var(--sklearn-color-unfitted-level-1);\n",
       "  border: var(--sklearn-color-unfitted-level-1) 1pt solid;\n",
       "}\n",
       "\n",
       "#sk-container-id-1 a.estimator_doc_link.fitted {\n",
       "  /* fitted */\n",
       "  border: var(--sklearn-color-fitted-level-1) 1pt solid;\n",
       "  color: var(--sklearn-color-fitted-level-1);\n",
       "}\n",
       "\n",
       "/* On hover */\n",
       "#sk-container-id-1 a.estimator_doc_link:hover {\n",
       "  /* unfitted */\n",
       "  background-color: var(--sklearn-color-unfitted-level-3);\n",
       "  color: var(--sklearn-color-background);\n",
       "  text-decoration: none;\n",
       "}\n",
       "\n",
       "#sk-container-id-1 a.estimator_doc_link.fitted:hover {\n",
       "  /* fitted */\n",
       "  background-color: var(--sklearn-color-fitted-level-3);\n",
       "}\n",
       "</style><div id=\"sk-container-id-1\" class=\"sk-top-container\"><div class=\"sk-text-repr-fallback\"><pre>RandomForestClassifier(bootstrap=False, n_estimators=200)</pre><b>In a Jupyter environment, please rerun this cell to show the HTML representation or trust the notebook. <br />On GitHub, the HTML representation is unable to render, please try loading this page with nbviewer.org.</b></div><div class=\"sk-container\" hidden><div class=\"sk-item\"><div class=\"sk-estimator fitted sk-toggleable\"><input class=\"sk-toggleable__control sk-hidden--visually\" id=\"sk-estimator-id-1\" type=\"checkbox\" checked><label for=\"sk-estimator-id-1\" class=\"sk-toggleable__label fitted sk-toggleable__label-arrow fitted\">&nbsp;&nbsp;RandomForestClassifier<a class=\"sk-estimator-doc-link fitted\" rel=\"noreferrer\" target=\"_blank\" href=\"https://scikit-learn.org/1.4/modules/generated/sklearn.ensemble.RandomForestClassifier.html\">?<span>Documentation for RandomForestClassifier</span></a><span class=\"sk-estimator-doc-link fitted\">i<span>Fitted</span></span></label><div class=\"sk-toggleable__content fitted\"><pre>RandomForestClassifier(bootstrap=False, n_estimators=200)</pre></div> </div></div></div></div>"
      ],
      "text/plain": [
       "RandomForestClassifier(bootstrap=False, n_estimators=200)"
      ]
     },
     "execution_count": 12,
     "metadata": {},
     "output_type": "execute_result"
    }
   ],
   "source": [
    "# Melhores Hiperparâmetros: {'n_estimators': 200, 'min_samples_split': 2, 'min_samples_leaf': 1, 'max_features': 'sqrt', 'max_depth': None, 'bootstrap': False}\n",
    "\n",
    "rf_random = RandomForestClassifier(n_estimators=200, min_samples_split=2, min_samples_leaf=1, max_features='sqrt', max_depth=None, bootstrap=False)\n",
    "\n",
    "# Treinamento do modelo\n",
    "rf_random.fit(X_train_split, y_train_split)\n"
   ]
  },
  {
   "cell_type": "markdown",
   "id": "4e06609e",
   "metadata": {
    "papermill": {
     "duration": 0.007692,
     "end_time": "2024-10-01T12:43:32.339061",
     "exception": false,
     "start_time": "2024-10-01T12:43:32.331369",
     "status": "completed"
    },
    "tags": []
   },
   "source": [
    "## Etapa 6: Avaliação do Modelo\n",
    "Fazer previsões no conjunto de teste e avaliar o desempenho do modelo."
   ]
  },
  {
   "cell_type": "code",
   "execution_count": 13,
   "id": "4aef8cbe",
   "metadata": {
    "execution": {
     "iopub.execute_input": "2024-10-01T12:43:32.357318Z",
     "iopub.status.busy": "2024-10-01T12:43:32.356839Z",
     "iopub.status.idle": "2024-10-01T12:43:38.040805Z",
     "shell.execute_reply": "2024-10-01T12:43:38.039556Z"
    },
    "papermill": {
     "duration": 5.696514,
     "end_time": "2024-10-01T12:43:38.043853",
     "exception": false,
     "start_time": "2024-10-01T12:43:32.347339",
     "status": "completed"
    },
    "tags": []
   },
   "outputs": [
    {
     "name": "stdout",
     "output_type": "stream",
     "text": [
      "Relatório de Classificação (Validação):\n",
      "               precision    recall  f1-score   support\n",
      "\n",
      "           0       0.85      0.84      0.85      8123\n",
      "           1       0.84      0.84      0.84      7753\n",
      "\n",
      "    accuracy                           0.84     15876\n",
      "   macro avg       0.84      0.84      0.84     15876\n",
      "weighted avg       0.84      0.84      0.84     15876\n",
      "\n"
     ]
    }
   ],
   "source": [
    "# Previsão e avaliação no conjunto de validação\n",
    "y_pred = rf_random.predict(X_val_split)\n",
    "print(\"Relatório de Classificação (Validação):\\n\", classification_report(y_val_split, y_pred))\n",
    "\n",
    "# Previsão no conjunto de teste\n",
    "y_test_pred = rf_random.predict(X_test_encoded)\n"
   ]
  },
  {
   "cell_type": "markdown",
   "id": "468743eb",
   "metadata": {
    "papermill": {
     "duration": 0.00755,
     "end_time": "2024-10-01T12:43:38.059372",
     "exception": false,
     "start_time": "2024-10-01T12:43:38.051822",
     "status": "completed"
    },
    "tags": []
   },
   "source": [
    "Salva as previsões em um arquivo CSV para submissão no Kaggle."
   ]
  },
  {
   "cell_type": "code",
   "execution_count": 14,
   "id": "2533c743",
   "metadata": {
    "execution": {
     "iopub.execute_input": "2024-10-01T12:43:38.077847Z",
     "iopub.status.busy": "2024-10-01T12:43:38.077360Z",
     "iopub.status.idle": "2024-10-01T12:43:38.145164Z",
     "shell.execute_reply": "2024-10-01T12:43:38.143730Z"
    },
    "papermill": {
     "duration": 0.081221,
     "end_time": "2024-10-01T12:43:38.148251",
     "exception": false,
     "start_time": "2024-10-01T12:43:38.067030",
     "status": "completed"
    },
    "tags": []
   },
   "outputs": [
    {
     "name": "stdout",
     "output_type": "stream",
     "text": [
      "Previsões salvas com sucesso.\n"
     ]
    }
   ],
   "source": [
    "# Salvar previsões no arquivo CSV apenas com os registros que têm previsões\n",
    "result_df = df_test.copy( )\n",
    "result_df['popularity_predicted'] = y_test_pred\n",
    "\n",
    "# Deixa somente as colunas popularity_predicted e track_unique_id\n",
    "result_df = result_df[['track_unique_id', 'popularity_predicted']]\n",
    "\n",
    "result_df.to_csv('predicted_results.csv', index=False)\n",
    "print(\"Previsões salvas com sucesso.\")\n"
   ]
  }
 ],
 "metadata": {
  "kaggle": {
   "accelerator": "none",
   "dataSources": [
    {
     "databundleVersionId": 9497052,
     "sourceId": 84358,
     "sourceType": "competition"
    }
   ],
   "dockerImageVersionId": 30775,
   "isGpuEnabled": false,
   "isInternetEnabled": false,
   "language": "python",
   "sourceType": "notebook"
  },
  "kernelspec": {
   "display_name": "Python 3",
   "language": "python",
   "name": "python3"
  },
  "language_info": {
   "codemirror_mode": {
    "name": "ipython",
    "version": 3
   },
   "file_extension": ".py",
   "mimetype": "text/x-python",
   "name": "python",
   "nbconvert_exporter": "python",
   "pygments_lexer": "ipython3",
   "version": "3.9.6"
  },
  "papermill": {
   "default_parameters": {},
   "duration": 138.83855,
   "end_time": "2024-10-01T12:43:38.980214",
   "environment_variables": {},
   "exception": null,
   "input_path": "__notebook__.ipynb",
   "output_path": "__notebook__.ipynb",
   "parameters": {},
   "start_time": "2024-10-01T12:41:20.141664",
   "version": "2.6.0"
  }
 },
 "nbformat": 4,
 "nbformat_minor": 5
}
